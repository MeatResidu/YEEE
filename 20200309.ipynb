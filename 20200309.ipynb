{
  "nbformat": 4,
  "nbformat_minor": 0,
  "metadata": {
    "colab": {
      "name": "20200309",
      "provenance": [],
      "toc_visible": true,
      "authorship_tag": "ABX9TyO3y6po9bX2cwy+h8jIAbJA",
      "include_colab_link": true
    },
    "kernelspec": {
      "name": "python3",
      "display_name": "Python 3"
    }
  },
  "cells": [
    {
      "cell_type": "markdown",
      "metadata": {
        "id": "view-in-github",
        "colab_type": "text"
      },
      "source": [
        "<a href=\"https://colab.research.google.com/github/MeatResidu/YEEE/blob/master/20200309.ipynb\" target=\"_parent\"><img src=\"https://colab.research.google.com/assets/colab-badge.svg\" alt=\"Open In Colab\"/></a>"
      ]
    },
    {
      "cell_type": "code",
      "metadata": {
        "id": "ifWzDOivPbCc",
        "colab_type": "code",
        "outputId": "3ebd0a1f-d9b8-4d44-ca35-771a488f9a33",
        "colab": {
          "base_uri": "https://localhost:8080/",
          "height": 170
        }
      },
      "source": [
        "!pip install lineTool"
      ],
      "execution_count": 0,
      "outputs": [
        {
          "output_type": "stream",
          "text": [
            "Collecting lineTool\n",
            "  Downloading https://files.pythonhosted.org/packages/7a/29/7e96eef82de56d045e0016bbd7b7a41f597444ee0c7a38b0a5cdc6034a16/lineTool-1.0.3.tar.gz\n",
            "Building wheels for collected packages: lineTool\n",
            "  Building wheel for lineTool (setup.py) ... \u001b[?25l\u001b[?25hdone\n",
            "  Created wheel for lineTool: filename=lineTool-1.0.3-cp36-none-any.whl size=1465 sha256=22fa9bbd8fce80b410b156beed6ce7d51e0d56046001e7f5c15fc0340662193f\n",
            "  Stored in directory: /root/.cache/pip/wheels/65/ea/38/262d4b0f2edb028985f5a8b3914efd33119311e166f1e490f4\n",
            "Successfully built lineTool\n",
            "Installing collected packages: lineTool\n",
            "Successfully installed lineTool-1.0.3\n"
          ],
          "name": "stdout"
        }
      ]
    },
    {
      "cell_type": "code",
      "metadata": {
        "id": "UnTYz_8GPgHB",
        "colab_type": "code",
        "outputId": "b3776a42-5306-4cd6-cd53-98a036733a3a",
        "colab": {
          "base_uri": "https://localhost:8080/",
          "height": 34
        }
      },
      "source": [
        "import requests, os\n",
        " \n",
        "\"\"\"\n",
        "發送 Line Notify 訊息\n",
        "\"\"\"\n",
        "def lineNotify(token, msg, picURI):\n",
        "    url = \"https://notify-api.line.me/api/notify\"\n",
        "    headers = {\n",
        "        \"Authorization\": \"Bearer \" + token\n",
        "    }\n",
        "   \n",
        "    payload = {'message': msg}\n",
        "    files = {'imageFile': open(picURI, 'rb')}\n",
        "    r = requests.post(url, headers = headers, params = payload, files = files)\n",
        "    return r.status_code\n",
        " \n",
        " \n",
        "#token = os.environ[\"LINE_TEST_TOKEN\"]\n",
        "token=\"IVZQ9M5brjJNWtHgisxXrPQme9ZfHt6o5UJF7ROQaXN\"\n",
        "msg = \"878787\"\n",
        "picURI = \"2.jpg\"\n",
        " \n",
        " \n",
        "lineNotify(token, msg, picURI)"
      ],
      "execution_count": 0,
      "outputs": [
        {
          "output_type": "execute_result",
          "data": {
            "text/plain": [
              "200"
            ]
          },
          "metadata": {
            "tags": []
          },
          "execution_count": 13
        }
      ]
    }
  ]
}